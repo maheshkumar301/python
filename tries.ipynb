{
  "nbformat": 4,
  "nbformat_minor": 0,
  "metadata": {
    "colab": {
      "provenance": [],
      "authorship_tag": "ABX9TyMuc6AdyzACqXfHo9SHxCoB",
      "include_colab_link": true
    },
    "kernelspec": {
      "name": "python3",
      "display_name": "Python 3"
    },
    "language_info": {
      "name": "python"
    }
  },
  "cells": [
    {
      "cell_type": "markdown",
      "metadata": {
        "id": "view-in-github",
        "colab_type": "text"
      },
      "source": [
        "<a href=\"https://colab.research.google.com/github/maheshkumar301/python/blob/main/tries.ipynb\" target=\"_parent\"><img src=\"https://colab.research.google.com/assets/colab-badge.svg\" alt=\"Open In Colab\"/></a>"
      ]
    },
    {
      "cell_type": "code",
      "execution_count": null,
      "metadata": {
        "id": "s0qfD8MvSbsr"
      },
      "outputs": [],
      "source": [
        "class Tamil_letter:\n",
        "  def vowel():\n",
        "    f=['அ','ஆ','இ','ஈ','உ','ஊ','எ','ஏ','ஐ','ஒ','ஓ','ஔ','ஃ']\n",
        "    for i in f:\n",
        "      if i=='ஃ':\n",
        "        continue\n",
        "      print(i,end=\" \")\n",
        "  def consonent():\n",
        "    c=['க','ங','ச','ஞ','ட','ண','த','ந','ப','ம','ய','ர','ல','வ','ழ','ள','ற','ன']\n",
        "    for j in c:\n",
        "       print(j,end=\" \")"
      ]
    },
    {
      "cell_type": "code",
      "source": [
        "t=Tamil_letter\n",
        "t.vowel()\n",
        "t.consonent()"
      ],
      "metadata": {
        "colab": {
          "base_uri": "https://localhost:8080/"
        },
        "id": "zco9qA6NbNqs",
        "outputId": "94d31ce6-483c-4ff4-bf97-d4b2a92d89ba"
      },
      "execution_count": null,
      "outputs": [
        {
          "output_type": "stream",
          "name": "stdout",
          "text": [
            "அ ஆ இ ஈ உ ஊ எ ஏ ஐ ஒ ஓ ஔ க ங ச ஞ ட ண த ந ப ம ய ர ல வ ழ ள ற ன "
          ]
        }
      ]
    },
    {
      "cell_type": "code",
      "source": [
        "n=int(input())\n",
        "for i in range(n+1):\n",
        "  for j in range(i+1):\n",
        "     print(end=\"*\")\n",
        "  print(\"\")"
      ],
      "metadata": {
        "colab": {
          "base_uri": "https://localhost:8080/"
        },
        "id": "rCPZ-mPCfSi0",
        "outputId": "2ac1b273-d5f6-4820-c4e4-d96631ff155e"
      },
      "execution_count": null,
      "outputs": [
        {
          "output_type": "stream",
          "name": "stdout",
          "text": [
            "7\n",
            "*\n",
            "**\n",
            "***\n",
            "****\n",
            "*****\n",
            "******\n",
            "*******\n",
            "********\n"
          ]
        }
      ]
    },
    {
      "cell_type": "code",
      "source": [
        "n=[]\n",
        "for k in range(0,5):\n",
        "  a=int(input())\n",
        "  n.append(a)\n",
        "  print(n)\n",
        "t=n.sort()\n",
        "print(t)"
      ],
      "metadata": {
        "colab": {
          "base_uri": "https://localhost:8080/"
        },
        "id": "tlMZlViQi5ZI",
        "outputId": "b2735268-4006-4487-93b5-fe3a1139f140"
      },
      "execution_count": 11,
      "outputs": [
        {
          "output_type": "stream",
          "name": "stdout",
          "text": [
            "5\n",
            "[5]\n",
            "3\n",
            "[5, 3]\n",
            "6\n",
            "[5, 3, 6]\n",
            "2\n",
            "[5, 3, 6, 2]\n",
            "8\n",
            "[5, 3, 6, 2, 8]\n",
            "None\n"
          ]
        }
      ]
    },
    {
      "cell_type": "code",
      "source": [],
      "metadata": {
        "id": "ZSheDjiJf1Oy"
      },
      "execution_count": null,
      "outputs": []
    }
  ]
}