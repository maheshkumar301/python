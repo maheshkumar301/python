{
  "nbformat": 4,
  "nbformat_minor": 0,
  "metadata": {
    "colab": {
      "provenance": [],
      "toc_visible": true,
      "authorship_tag": "ABX9TyPIBECUMw3B4tNBPct78Eog",
      "include_colab_link": true
    },
    "kernelspec": {
      "name": "python3",
      "display_name": "Python 3"
    },
    "language_info": {
      "name": "python"
    }
  },
  "cells": [
    {
      "cell_type": "markdown",
      "metadata": {
        "id": "view-in-github",
        "colab_type": "text"
      },
      "source": [
        "<a href=\"https://colab.research.google.com/github/maheshkumar301/python/blob/main/python_asssignment3.ipynb\" target=\"_parent\"><img src=\"https://colab.research.google.com/assets/colab-badge.svg\" alt=\"Open In Colab\"/></a>"
      ]
    },
    {
      "cell_type": "code",
      "execution_count": null,
      "metadata": {
        "colab": {
          "base_uri": "https://localhost:8080/"
        },
        "id": "xrpIc0fOQ0Hj",
        "outputId": "a5b12303-9db8-4fa2-b9c2-c91c45837c2b"
      },
      "outputs": [
        {
          "output_type": "stream",
          "name": "stdout",
          "text": [
            "hello. Python\n"
          ]
        }
      ],
      "source": [
        "#1.Write a Python program to print hello. Python\n",
        "print(\"hello. Python\")"
      ]
    },
    {
      "cell_type": "code",
      "source": [
        "\n",
        "#2.\tWrite a Python program to do arithmetical operations addition and division.\n",
        "a=int(input(\"Enter a number:\"))\n",
        "b=int(input(\"Enter another number:\"))\n",
        "c=a+b\n",
        "d=a/b\n",
        "print(\"The addition of two number\",c)\n",
        "print(\"The division of two numbers\",d)"
      ],
      "metadata": {
        "colab": {
          "base_uri": "https://localhost:8080/"
        },
        "id": "nIMfSrgpSOoV",
        "outputId": "1f1bb9d3-3265-4518-ac91-63261b055563"
      },
      "execution_count": null,
      "outputs": [
        {
          "output_type": "stream",
          "name": "stdout",
          "text": [
            "Enter a number:3\n",
            "Enter another number:5\n",
            "The addition of two number 8\n",
            "The division of two numbers 0.6\n"
          ]
        }
      ]
    },
    {
      "cell_type": "code",
      "source": [
        "#3.\tWrite a Python program to find the area of a triangle\n",
        "b=float(input(\"Enter a base:\"))\n",
        "h=float(input(\"Enter a height:\"))\n",
        "Area=b*h/2\n",
        "print(\"area of triangle is\",Area)"
      ],
      "metadata": {
        "colab": {
          "base_uri": "https://localhost:8080/"
        },
        "id": "_f5sVZwhStS7",
        "outputId": "902b0ed8-9706-4820-fbd8-5155864171cc"
      },
      "execution_count": null,
      "outputs": [
        {
          "output_type": "stream",
          "name": "stdout",
          "text": [
            "Enter a base:5\n",
            "Enter a height:6\n",
            "area of triangle is 15.0\n"
          ]
        }
      ]
    },
    {
      "cell_type": "code",
      "source": [
        "#4.\tWrite a Python program to swap two variables\n",
        "t=input(\"Enter a number:\")\n",
        "u=input(\"Enter another number:\")\n",
        "t,u=u,t\n",
        "print(\"After swapping\",t,u)"
      ],
      "metadata": {
        "colab": {
          "base_uri": "https://localhost:8080/"
        },
        "id": "0zpICl5-Y5ET",
        "outputId": "8d138fe3-7f3f-4bff-c00c-5a11640760a4"
      },
      "execution_count": null,
      "outputs": [
        {
          "output_type": "stream",
          "name": "stdout",
          "text": [
            "Enter a number:4\n",
            "Enter another number:5\n",
            "After swapping 5 4\n"
          ]
        }
      ]
    },
    {
      "cell_type": "code",
      "source": [
        "#5. Write a Python program to generate a random number\n",
        "import random\n",
        "w=random.randint(0,100)\n",
        "print(\"Random number is\",w)"
      ],
      "metadata": {
        "colab": {
          "base_uri": "https://localhost:8080/"
        },
        "id": "VuOQt2-OZ9hY",
        "outputId": "5bd9457b-6a30-4fce-c77d-816a5a8c0beb"
      },
      "execution_count": null,
      "outputs": [
        {
          "output_type": "stream",
          "name": "stdout",
          "text": [
            "Random number is 20\n"
          ]
        }
      ]
    },
    {
      "cell_type": "code",
      "source": [
        "#6.\tWrite a Python program to convert kilometers to miles\n",
        "d=float(input(\"Enter a kilometer:\"))\n",
        "result=d*0.621371\n",
        "print(\"The given kilometer into miles:\",result)"
      ],
      "metadata": {
        "colab": {
          "base_uri": "https://localhost:8080/"
        },
        "id": "YoDZq1cdclBk",
        "outputId": "3d0860db-6b44-496a-d3ac-3b2515e6153d"
      },
      "execution_count": null,
      "outputs": [
        {
          "output_type": "stream",
          "name": "stdout",
          "text": [
            "Enter a kilometer:2\n",
            "The given kilometer into miles: 1.242742\n"
          ]
        }
      ]
    },
    {
      "cell_type": "code",
      "source": [
        "#7.\tWrite a Python program to convert Celsius to Fahrenheit\n",
        "c=float(input(\"Enter a celsius:\"))\n",
        "f=1.8*c+32\n",
        "print(\"The given celsius into Fahrenheit :\",f)"
      ],
      "metadata": {
        "colab": {
          "base_uri": "https://localhost:8080/"
        },
        "id": "XfwF1ch8gf_M",
        "outputId": "10648750-f84d-4393-8f67-59e26cfe8035"
      },
      "execution_count": null,
      "outputs": [
        {
          "output_type": "stream",
          "name": "stdout",
          "text": [
            "Enter a celsius:67.8\n",
            "The given celsius into Fahrenheit : 154.04\n"
          ]
        }
      ]
    },
    {
      "cell_type": "code",
      "source": [
        "#8.\tWrite a Python program to display calendar\n",
        "import calendar\n",
        "yy=int(input(\"Enter year:\"))\n",
        "mm=int(input(\"Enter month:\"))\n",
        "print(calendar.month(yy,mm))\n"
      ],
      "metadata": {
        "id": "Z264QjFau6FZ",
        "colab": {
          "base_uri": "https://localhost:8080/"
        },
        "outputId": "0dc2cdbe-6423-4b7d-e01f-21eb8ea66858"
      },
      "execution_count": null,
      "outputs": [
        {
          "output_type": "stream",
          "name": "stdout",
          "text": [
            "Enter year:2002\n",
            "Enter month01\n",
            "    January 2002\n",
            "Mo Tu We Th Fr Sa Su\n",
            "    1  2  3  4  5  6\n",
            " 7  8  9 10 11 12 13\n",
            "14 15 16 17 18 19 20\n",
            "21 22 23 24 25 26 27\n",
            "28 29 30 31\n",
            "\n"
          ]
        }
      ]
    },
    {
      "cell_type": "code",
      "source": [
        "#9.\tWrite a Python program to solve quadratic equation\n",
        "print(\"The quadratic equation is z=(3x^2)+(2y)+c\")\n",
        "x=int(input(\"Enter X value :\"))\n",
        "y=int(input(\"Enter Y value :\"))\n",
        "c=int(input(\"Enter C value :\"))\n",
        "z=(3*x*x)+(2*y)+c\n",
        "print(\"The solution of given quadratic equation :\",z)"
      ],
      "metadata": {
        "colab": {
          "base_uri": "https://localhost:8080/"
        },
        "id": "j141PgXFhwem",
        "outputId": "a35980ad-affe-4f6f-dc9c-ad2b2ec1b14d"
      },
      "execution_count": null,
      "outputs": [
        {
          "output_type": "stream",
          "name": "stdout",
          "text": [
            "The quadratic equation is z=(3x^2)+(2y)+c\n",
            "Enter X value :4\n",
            "Enter Y value :5\n",
            "Enter C value :6\n",
            "The solution of given quadratic equation : 64\n"
          ]
        }
      ]
    },
    {
      "cell_type": "code",
      "source": [
        "#10.\tWrite a Python program to swap two variables without temp variable\n",
        "p=int(input(\"Enter first number:\"))\n",
        "q=int(input(\"Enter second number:\"))\n",
        "p=p+q\n",
        "q=p-q\n",
        "p=p-q\n",
        "print(\"After swapping :\",p,q)"
      ],
      "metadata": {
        "id": "xDxodwvjiClj",
        "colab": {
          "base_uri": "https://localhost:8080/"
        },
        "outputId": "946df7b8-aa52-41ef-add7-da050e903f63"
      },
      "execution_count": null,
      "outputs": [
        {
          "output_type": "stream",
          "name": "stdout",
          "text": [
            "Enter first number:10\n",
            "Enter second number:0\n",
            "After swapping : 0 10\n"
          ]
        }
      ]
    },
    {
      "cell_type": "code",
      "source": [
        "#11.\t Write a Python Program to Check if a Number is Positive, Negative or Zero\n",
        "g=float(input(\"Enter a number:\"))\n",
        "if g==0:\n",
        "  print(\"The given number is Zero\")\n",
        "elif g>0:\n",
        "  print(\"The given number is Positive\")\n",
        "else:\n",
        "  print(\"The given number is Negative\")"
      ],
      "metadata": {
        "colab": {
          "base_uri": "https://localhost:8080/"
        },
        "id": "2ny44ygCqEBZ",
        "outputId": "2fe7579b-8434-4f40-edf1-87a2b52bf1fc"
      },
      "execution_count": null,
      "outputs": [
        {
          "output_type": "stream",
          "name": "stdout",
          "text": [
            "Enter a number:89\n",
            "The given number is Positive\n"
          ]
        }
      ]
    },
    {
      "cell_type": "code",
      "source": [
        "#12.\tWrite a Python Program to Check if a Number is Odd or Even\n",
        "o=int(input(\"Enter a number:\"))\n",
        "if o%2==0:\n",
        "  print(\"The given number is even\")\n",
        "else:\n",
        "  print(\"The given number is odd\")"
      ],
      "metadata": {
        "colab": {
          "base_uri": "https://localhost:8080/"
        },
        "id": "A8zvVJs8rF4l",
        "outputId": "e9b0d5b0-633b-4a73-97e5-2afb3576df3d"
      },
      "execution_count": null,
      "outputs": [
        {
          "output_type": "stream",
          "name": "stdout",
          "text": [
            "Enter a number:22.2\n",
            "The given number is odd\n"
          ]
        }
      ]
    },
    {
      "cell_type": "code",
      "source": [
        "#13.\t Write a Python Program to Check Leap Year\n",
        "l=int(input(\"Enter a year:\"))\n",
        "if l%4==0 :\n",
        "  print(\"The given year is Leap year\")\n",
        "else:\n",
        "  print(\"The given year is not Leap year\")"
      ],
      "metadata": {
        "colab": {
          "base_uri": "https://localhost:8080/"
        },
        "id": "71V24ABGrqHF",
        "outputId": "36718fe5-51c5-46c6-c183-e10f2b88dedd"
      },
      "execution_count": null,
      "outputs": [
        {
          "output_type": "stream",
          "name": "stdout",
          "text": [
            "Enter a year:2050\n",
            "The given year is not Leap year\n"
          ]
        }
      ]
    },
    {
      "cell_type": "code",
      "source": [
        "#14.\t Write a Python Program to Check Prime Number\n",
        "p=int(input(\"Enter a number:\"))\n",
        "if p==1 :\n",
        "  print(p,\"is not prime number\")\n",
        "elif p>1:\n",
        "  for i in range (2,p):\n",
        "    if p%i==0:\n",
        "      print(p,\"is not prime number\")\n",
        "      break\n",
        "  else:\n",
        "    print(p,\"is a prime number\")\n",
        "else:\n",
        "  print(p,\"is not prime number\")\n",
        "\n"
      ],
      "metadata": {
        "colab": {
          "base_uri": "https://localhost:8080/"
        },
        "id": "PHDETjhUte2Q",
        "outputId": "8a99daa5-37e9-431c-8507-af0866557e6d"
      },
      "execution_count": null,
      "outputs": [
        {
          "output_type": "stream",
          "name": "stdout",
          "text": [
            "Enter a number:64\n",
            "64 is not prime number\n"
          ]
        }
      ]
    },
    {
      "cell_type": "code",
      "source": [
        "#15 .Write a Python Program to Print all Prime Numbers in an Interval of 1-100\n",
        "print(\"All Prime Numbers in an Interval of 1-100\")\n",
        "for num in range(1, 100):\n",
        "   if num > 1:\n",
        "       for i in range(2, num):\n",
        "           if (num % i) == 0:\n",
        "               break\n",
        "       else:\n",
        "           print(num,end=\" \")"
      ],
      "metadata": {
        "colab": {
          "base_uri": "https://localhost:8080/"
        },
        "id": "UqCEzgpJwiiG",
        "outputId": "855953ff-336f-42dd-aac8-850aeb3a1bd9"
      },
      "execution_count": null,
      "outputs": [
        {
          "output_type": "stream",
          "name": "stdout",
          "text": [
            "All Prime Numbers in an Interval of 1-100\n",
            "2 3 5 7 11 13 17 19 23 29 31 37 41 43 47 53 59 61 67 71 73 79 83 89 97 "
          ]
        }
      ]
    },
    {
      "cell_type": "code",
      "source": [
        "#16.\t Write a Python Program to Find the Factorial of a Number\n",
        "h=int(input(\"Enter a number:\"))\n",
        "if h==0 :\n",
        "  h=1\n",
        "  print(h)\n",
        "else:\n",
        "  for i in range (1,h):\n",
        "    h=h*i\n",
        "  print(h)\n"
      ],
      "metadata": {
        "id": "RoaEdznTx8UL",
        "colab": {
          "base_uri": "https://localhost:8080/"
        },
        "outputId": "16b3b286-6448-42b8-e885-0f2faa16f7fb"
      },
      "execution_count": null,
      "outputs": [
        {
          "output_type": "stream",
          "name": "stdout",
          "text": [
            "Enter a number:7\n",
            "5040\n"
          ]
        }
      ]
    },
    {
      "cell_type": "code",
      "source": [
        "#17.\t Write a Python Program to Display the multiplication Table\n",
        "num1=int(input(\"Enter the count:\"))\n",
        "m=int(input(\"Enter the multiplier:\"))\n",
        "print(\"Multiplication Table of\",m)\n",
        "for i in range(1,num1+1):\n",
        "  print(i,\"*\",m,\"=\",i*m)"
      ],
      "metadata": {
        "colab": {
          "base_uri": "https://localhost:8080/"
        },
        "id": "kheQKr5wDjAd",
        "outputId": "5a2d1e1d-8c49-459a-f12c-6684e490cf01"
      },
      "execution_count": null,
      "outputs": [
        {
          "output_type": "stream",
          "name": "stdout",
          "text": [
            "Enter the count:6\n",
            "Enter the multiplier:5\n",
            "Multiplication Table of 5\n",
            "1 * 5 = 5\n",
            "2 * 5 = 10\n",
            "3 * 5 = 15\n",
            "4 * 5 = 20\n",
            "5 * 5 = 25\n",
            "6 * 5 = 30\n"
          ]
        }
      ]
    },
    {
      "cell_type": "code",
      "source": [
        "#18.\t Write a Python Program to Print the Fibonacci sequence\n",
        "k=int(input(\"Enter a number:\"))\n",
        "f=0\n",
        "s=1\n",
        "print(f)\n",
        "print(s)\n",
        "for i in range(1,k-1):\n",
        "  k=f+s\n",
        "  f=s\n",
        "  s=k\n",
        "  print(k)"
      ],
      "metadata": {
        "id": "VCm5P6R3ICN9",
        "colab": {
          "base_uri": "https://localhost:8080/"
        },
        "outputId": "e05cc5c1-079e-4634-8a6e-b2e0f791444b"
      },
      "execution_count": null,
      "outputs": [
        {
          "output_type": "stream",
          "name": "stdout",
          "text": [
            "Enter a number:10\n",
            "0\n",
            "1\n",
            "1\n",
            "2\n",
            "3\n",
            "5\n",
            "8\n",
            "13\n",
            "21\n",
            "34\n"
          ]
        }
      ]
    },
    {
      "cell_type": "code",
      "source": [
        "#19.\t Write a Python Program to Check Armstrong Number\n",
        "num = int(input(\"Enter a number: \"))\n",
        "sum = 0\n",
        "temp = num\n",
        "while temp > 0:\n",
        "   digit = temp % 10\n",
        "   sum += digit ** 3\n",
        "   temp //= 10\n",
        "if num == sum:\n",
        "   print(num,\"is an Armstrong number\")\n",
        "else:\n",
        "   print(num,\"is not an Armstrong number\")"
      ],
      "metadata": {
        "colab": {
          "base_uri": "https://localhost:8080/"
        },
        "id": "gE67oYqHFN4O",
        "outputId": "84af9299-3e65-4f79-afbc-780db4dc8d66"
      },
      "execution_count": null,
      "outputs": [
        {
          "output_type": "stream",
          "name": "stdout",
          "text": [
            "Enter a number: 407\n",
            "407 is an Armstrong number\n"
          ]
        }
      ]
    },
    {
      "cell_type": "code",
      "source": [
        "#20.\t Write a Python Program to Find Armstrong Number in an Interval\n",
        "st=int(input(\"Enter starting number:\"))\n",
        "sp=int(input(\"Enter Ending number:\"))\n",
        "for num in range(st, sp + 1):\n",
        "   order = len(str(num))\n",
        "   sum = 0\n",
        "\n",
        "   temp = num\n",
        "   while temp > 0:\n",
        "       digit = temp % 10\n",
        "       sum += digit ** order\n",
        "       temp //= 10\n",
        "\n",
        "   if num == sum:\n",
        "       print(num,end=\" \")"
      ],
      "metadata": {
        "colab": {
          "base_uri": "https://localhost:8080/"
        },
        "id": "KRrWwXDHGrAE",
        "outputId": "1173445f-05d0-4955-8342-c0fffc37b055"
      },
      "execution_count": null,
      "outputs": [
        {
          "output_type": "stream",
          "name": "stdout",
          "text": [
            "Enter starting number:1\n",
            "Enter Ending number:300\n",
            "1 2 3 4 5 6 7 8 9 153 "
          ]
        }
      ]
    },
    {
      "cell_type": "code",
      "source": [
        "#21.\t Write a Python Program to Find the Sum of Natural Numbers\n",
        "nat_num=int(input(\"Enter a number:\"))\n",
        "res=int(nat_num*(nat_num+1)/2)\n",
        "print(\"Sum of natural numbers:\",res)"
      ],
      "metadata": {
        "colab": {
          "base_uri": "https://localhost:8080/"
        },
        "id": "wfcHd62LJt-w",
        "outputId": "e50186db-a76f-41c7-8830-b77569dcb8aa"
      },
      "execution_count": null,
      "outputs": [
        {
          "output_type": "stream",
          "name": "stdout",
          "text": [
            "Enter a number:16\n",
            "Sum of natural numbers: 136\n"
          ]
        }
      ]
    },
    {
      "cell_type": "code",
      "source": [
        "#22.\tWrite a Python Program to Find LCM\n",
        "import math\n",
        "x=int(input(\"Enter x value:\"))\n",
        "y=int(input(\"Enter y value:\"))\n",
        "print(\"LCM of x,y :\",math.lcm(x,y))\n"
      ],
      "metadata": {
        "colab": {
          "base_uri": "https://localhost:8080/"
        },
        "id": "fDul23pKTfxb",
        "outputId": "d3b4ad30-56ea-4fab-b19e-2a761c531972"
      },
      "execution_count": null,
      "outputs": [
        {
          "output_type": "stream",
          "name": "stdout",
          "text": [
            "Enter x value:45\n",
            "Enter y value:23\n",
            "LCM of x,y : 1035\n"
          ]
        }
      ]
    },
    {
      "cell_type": "code",
      "source": [
        "#23.\t Write a Python Program to Find HCF\n",
        "import math\n",
        "c=int(input(\"Enter c value:\"))\n",
        "d=int(input(\"Enter d value:\"))\n",
        "print(\"HCF of c,d :\",math.gcd(c,d))"
      ],
      "metadata": {
        "colab": {
          "base_uri": "https://localhost:8080/"
        },
        "id": "hawsUCPjTl47",
        "outputId": "ce1e1735-07f4-4630-8bc7-7584275c823b"
      },
      "execution_count": null,
      "outputs": [
        {
          "output_type": "stream",
          "name": "stdout",
          "text": [
            "Enter c value:45\n",
            "Enter d value:23\n",
            "HCF of c,d : 1\n"
          ]
        }
      ]
    },
    {
      "cell_type": "code",
      "source": [
        "#24.\t Write a Python Program to Convert Decimal to Binary, Octal and Hexadecimal\n",
        "dec=int(input(\"Enter a decimal value:\"))\n",
        "print(bin(dec),\"is binary value of\",dec)\n",
        "print(oct(dec),\"is octal value of\",dec)\n",
        "print(hex(dec),\"is hexadecimal value of\",dec)\n"
      ],
      "metadata": {
        "colab": {
          "base_uri": "https://localhost:8080/"
        },
        "id": "-XPeB5EhTqrz",
        "outputId": "24cb59af-7297-4457-bb88-dca9fd49d164"
      },
      "execution_count": null,
      "outputs": [
        {
          "output_type": "stream",
          "name": "stdout",
          "text": [
            "Enter a decimal value:456\n",
            "0b111001000 is binary value of 456\n",
            "0o710 is octal value of 456\n",
            "0x1c8 is hexadecimal value of 456\n"
          ]
        }
      ]
    },
    {
      "cell_type": "code",
      "source": [
        "#25.\t Write a Python Program To Find ASCII value of a character\n",
        "c = input(\"Enter a character:\")\n",
        "print(\"The ASCII value of '\" + c + \"' is\", ord(c))"
      ],
      "metadata": {
        "colab": {
          "base_uri": "https://localhost:8080/"
        },
        "id": "SGZ6SCWgTw2l",
        "outputId": "905f20e3-367b-4306-debf-c0258014d9e3"
      },
      "execution_count": null,
      "outputs": [
        {
          "output_type": "stream",
          "name": "stdout",
          "text": [
            "Enter a character:u\n",
            "The ASCII value of 'u' is 117\n"
          ]
        }
      ]
    },
    {
      "cell_type": "code",
      "source": [
        "#26.\t Write a Python Program to Make a Simple Calculator with 4 basic mathematical operations\n",
        "print(\"Simple calculator\")\n",
        "print(\"1.Addition\")\n",
        "print(\"2.Subtraction\")\n",
        "print(\"3.Mutiplication\")\n",
        "print(\"4.Division\")\n",
        "n=int(input(\"Choose an operation :\"))\n",
        "a=int(input(\"Enter first number:\"))\n",
        "b=int(input(\"Enter second number:\"))\n",
        "if n==1 :\n",
        "  c=a+b\n",
        "  print(\"Adddition of numbers:\",c)\n",
        "elif n==2:\n",
        "  c=a-b\n",
        "  print(\"Subtraction of numbers:\",c)\n",
        "elif n==3:\n",
        "  c=a*b\n",
        "  print(\"Multiplication of numbers:\",c)\n",
        "elif n==4 :\n",
        "  c=a/b\n",
        "  print(\"Division of numbers:\",c)\n",
        "else:\n",
        "  print(\"sorry ! choose right operation\")\n"
      ],
      "metadata": {
        "colab": {
          "base_uri": "https://localhost:8080/"
        },
        "id": "sfpfgwMVpleJ",
        "outputId": "ec7c7591-755e-41f6-a2b4-1067b09ef9c6"
      },
      "execution_count": null,
      "outputs": [
        {
          "output_type": "stream",
          "name": "stdout",
          "text": [
            "Simple calculator\n",
            "1.Addition\n",
            "2.Subtraction\n",
            "3.Mutiplication\n",
            "4.Division\n",
            "Choose an operation :3\n",
            "Enter first number:34\n",
            "Enter second number:2\n",
            "Multiplication of numbers: 68\n"
          ]
        }
      ]
    }
  ]
}