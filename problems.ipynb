{
  "nbformat": 4,
  "nbformat_minor": 0,
  "metadata": {
    "colab": {
      "provenance": [],
      "authorship_tag": "ABX9TyNZ5t4vEXwWJq3gRg8s+1WU",
      "include_colab_link": true
    },
    "kernelspec": {
      "name": "python3",
      "display_name": "Python 3"
    },
    "language_info": {
      "name": "python"
    }
  },
  "cells": [
    {
      "cell_type": "markdown",
      "metadata": {
        "id": "view-in-github",
        "colab_type": "text"
      },
      "source": [
        "<a href=\"https://colab.research.google.com/github/maheshkumar301/python/blob/main/problems.ipynb\" target=\"_parent\"><img src=\"https://colab.research.google.com/assets/colab-badge.svg\" alt=\"Open In Colab\"/></a>"
      ]
    },
    {
      "cell_type": "code",
      "execution_count": 9,
      "metadata": {
        "colab": {
          "base_uri": "https://localhost:8080/"
        },
        "id": "Rcx_MOucUw1D",
        "outputId": "f6b1e73e-3953-4745-a654-b37854b28ad4"
      },
      "outputs": [
        {
          "output_type": "stream",
          "name": "stdout",
          "text": [
            "Enter the size of list:6\n",
            "Enter a elements:7\n",
            "Enter a elements:4\n",
            "Enter a elements:3\n",
            "Enter a elements:2\n",
            "Enter a elements:8\n",
            "Enter a elements:9\n",
            "created list: [7, 4, 3, 2, 8, 9]\n",
            "reversed a list: [9, 8, 2, 3, 4, 7]\n"
          ]
        }
      ],
      "source": [
        "#reverse an array\n",
        "l=[]\n",
        "n=int(input(\"Enter the size of list:\"))\n",
        "for i in range(0,n):\n",
        "  a=int(input(\"Enter a elements:\"))\n",
        "  l.append(a)\n",
        "\n",
        "print(\"created list:\",l)\n",
        "k=l[::-1]\n",
        "print(\"reversed a list:\",k)\n"
      ]
    },
    {
      "cell_type": "code",
      "source": [
        "#sorting a list and find maximum and minimum element\n",
        "p=[]\n",
        "o=int(input(\"Enter a size of list:\"))\n",
        "for h in range(0,o):\n",
        "  q=int(input(\"Enter the elements:\"))\n",
        "  p.append(q)\n",
        "print(\"created list:\",p)\n",
        "for g in range(o):\n",
        "  for k in range(g+1,o):\n",
        "    if p[g]>p[k]:\n",
        "      temp=p[g]\n",
        "      p[g]=p[k]\n",
        "      p[k]=temp\n",
        "print(\"sorted list:\",p)\n",
        "print(\"Descending order sorted list:\",p[::-1])\n",
        "print(\"minimum element in a list:\",p[0])\n",
        "print(\"maximum element in a list:\",p[-1])"
      ],
      "metadata": {
        "colab": {
          "base_uri": "https://localhost:8080/"
        },
        "id": "Nva4cAkpYsgv",
        "outputId": "0e78a637-9b2c-4582-fb40-0ba81e43bedb"
      },
      "execution_count": 24,
      "outputs": [
        {
          "output_type": "stream",
          "name": "stdout",
          "text": [
            "Enter a size of list:6\n",
            "Enter the elements:5\n",
            "Enter the elements:3\n",
            "Enter the elements:8\n",
            "Enter the elements:2\n",
            "Enter the elements:9\n",
            "Enter the elements:1\n",
            "created list: [5, 3, 8, 2, 9, 1]\n",
            "sorted list: [1, 2, 3, 5, 8, 9]\n",
            "Descending order sorted list: [9, 8, 5, 3, 2, 1]\n",
            "minimum element in a list: 1\n",
            "maximum element in a list: 9\n"
          ]
        }
      ]
    },
    {
      "cell_type": "code",
      "source": [
        "#y th smallest number\n",
        "p=[]\n",
        "o=int(input(\"Enter a size of list:\"))\n",
        "for h in range(0,o):\n",
        "  q=int(input(\"Enter the elements:\"))\n",
        "  p.append(q)\n",
        "print(\"created list:\",p)\n",
        "for g in range(o):\n",
        "  for k in range(g+1,o):\n",
        "    if p[g]>p[k]:\n",
        "      temp=p[g]\n",
        "      p[g]=p[k]\n",
        "      p[k]=temp\n",
        "print(\"sorted list:\",p)\n",
        "r=p[::-1]\n",
        "print(\"Descending order sorted list:\",r)\n",
        "y=int(input(\"Enter y value:\"))\n",
        "print(\"y th smallest number:\",p[y-1])"
      ],
      "metadata": {
        "colab": {
          "base_uri": "https://localhost:8080/"
        },
        "id": "k3jNFQjnifQI",
        "outputId": "b52f2c52-5148-47ea-8b94-c917d79c5720"
      },
      "execution_count": 31,
      "outputs": [
        {
          "output_type": "stream",
          "name": "stdout",
          "text": [
            "Enter a size of list:5\n",
            "Enter the elements:2\n",
            "Enter the elements:7\n",
            "Enter the elements:3\n",
            "Enter the elements:4\n",
            "Enter the elements:9\n",
            "created list: [2, 7, 3, 4, 9]\n",
            "sorted list: [2, 3, 4, 7, 9]\n",
            "Descending order sorted list: [9, 7, 4, 3, 2]\n",
            "Enter y value:2\n",
            "y th smallest number: 3\n"
          ]
        }
      ]
    }
  ]
}